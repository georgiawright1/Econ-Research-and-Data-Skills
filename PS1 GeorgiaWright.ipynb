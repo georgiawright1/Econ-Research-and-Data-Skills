{
 "cells": [
  {
   "cell_type": "code",
   "execution_count": 1,
   "id": "71de190c",
   "metadata": {},
   "outputs": [],
   "source": [
    "import requests\n",
    "import json\n",
    "import os"
   ]
  },
  {
   "cell_type": "markdown",
   "id": "02289d7d",
   "metadata": {},
   "source": [
    "### 1. The Consumer Expenditure (CEX) survey is conducted by the Bureau of Labor Statistics (BLS). From the web-page1 of the CEX survey, answer the following questions:\n"
   ]
  },
  {
   "cell_type": "markdown",
   "id": "c68e809f",
   "metadata": {},
   "source": [
    "#### 1. What is the definition of the target population for this survey? (These are called: primary sampling units (PSUs))\n",
    "- Selection of nationwide households representing the civilian noninstitutional population\n",
    "- includes people living in houses, condominiums, apartments, and group quarters such as college dormitories"
   ]
  },
  {
   "cell_type": "markdown",
   "id": "41d4ef3f",
   "metadata": {},
   "source": [
    "#### 2. What is the purpose of the CEX survey?\n",
    "- effort to obtain information on the complete range of consumers’ expenditures, income, and demographic characteristics, in the same survey, directly from consumers\n",
    "- to provide weights for the Consumer Price Index (CPI)"
   ]
  },
  {
   "cell_type": "markdown",
   "id": "966d1c1d",
   "metadata": {},
   "source": [
    "#### 3. If taken in its entirety, what type of panel data will you have?\n",
    "\n",
    "- **Repeated cross section**: several sets of cross sectional data taken at consecutive time periods."
   ]
  },
  {
   "cell_type": "markdown",
   "id": "652c0097",
   "metadata": {},
   "source": [
    "### 2. The API key that you obtained (a string of 32 letters and numbers) can be used to retrieve data from their API in the following way:\n",
    "The base URL is https://api.stlouisfed.org/ The endpoint you\n",
    "will use is: fred/series/observations The parameters you will pass\n",
    "(after a question mark symbol and separated with & symbol) are: ?series_id=GDP&api_key=8cbc8c272d6ecc3c548465468f5e90c4&observation_ start=2021-01-01&file_type=json. For example, if your API key is abcdefghijklmnopqrstuvwxyz123456, you will make the following call: https://api.stlouisfed.org/fred/series/observations?series_id=GDP&api_key=abcdefghijklmnopqrstuvwxyz123456&observation_start=2021-01-01&file_type=json Your code should show how the\n",
    "URL is created (suppress the key). Your notebook should show the response you get."
   ]
  },
  {
   "cell_type": "markdown",
   "id": "7768b871",
   "metadata": {},
   "source": [
    "#### 1. Obtain an API key for the FRED data set. Go to https://fred. stlouisfed.org/docs/api/api_key.html and click on the Request or view your API keys link. You will create an acount and request an API key."
   ]
  },
  {
   "cell_type": "code",
   "execution_count": 2,
   "id": "dfe0e495",
   "metadata": {},
   "outputs": [
    {
     "name": "stdout",
     "output_type": "stream",
     "text": [
      "API keys loaded\n"
     ]
    }
   ],
   "source": [
    "%run APIkeys.py"
   ]
  },
  {
   "cell_type": "markdown",
   "id": "4b6c83d9",
   "metadata": {},
   "source": [
    "#### 2. The API key that you obtained (a string of 32 letters and numbers) can be used to retrieve data from their API in the following way:"
   ]
  },
  {
   "cell_type": "code",
   "execution_count": 3,
   "id": "266c036f",
   "metadata": {},
   "outputs": [],
   "source": [
    "baseURL = 'https://api.stlouisfed.org/'\n",
    "endPoint = 'fred/series/observations'\n",
    "parameter = 'series_id=GDP'\n",
    "parameter2 = 'observation_start=2021-01-01&file_type=json'\n",
    "\n",
    "key = os.environ['FRED_API_key']\n",
    "\n",
    "url = baseURL + endPoint + '?' + parameter + '&' + 'api_key=' + key + '&' + parameter2"
   ]
  },
  {
   "cell_type": "code",
   "execution_count": 4,
   "id": "2649028d",
   "metadata": {},
   "outputs": [
    {
     "name": "stdout",
     "output_type": "stream",
     "text": [
      "https://api.stlouisfed.org/fred/series/observations?series_id=GDP&api_key=71d28cbb276869ddcf3fa5c6fadf0a3b&observation_start=2021-01-01&file_type=json\n"
     ]
    }
   ],
   "source": [
    "print(url)"
   ]
  },
  {
   "cell_type": "code",
   "execution_count": 5,
   "id": "1e8e94c9",
   "metadata": {},
   "outputs": [],
   "source": [
    "response = requests.get(url)"
   ]
  },
  {
   "cell_type": "code",
   "execution_count": 6,
   "id": "c51bb93c",
   "metadata": {},
   "outputs": [
    {
     "name": "stdout",
     "output_type": "stream",
     "text": [
      "<Response [200]>\n"
     ]
    }
   ],
   "source": [
    "print(response)"
   ]
  },
  {
   "cell_type": "code",
   "execution_count": 7,
   "id": "229e7ce4",
   "metadata": {},
   "outputs": [],
   "source": [
    "data = response.json()"
   ]
  },
  {
   "cell_type": "code",
   "execution_count": 8,
   "id": "6940b306",
   "metadata": {},
   "outputs": [
    {
     "data": {
      "text/plain": [
       "{'realtime_start': '2022-09-21',\n",
       " 'realtime_end': '2022-09-21',\n",
       " 'observation_start': '2021-01-01',\n",
       " 'observation_end': '9999-12-31',\n",
       " 'units': 'lin',\n",
       " 'output_type': 1,\n",
       " 'file_type': 'json',\n",
       " 'order_by': 'observation_date',\n",
       " 'sort_order': 'asc',\n",
       " 'count': 6,\n",
       " 'offset': 0,\n",
       " 'limit': 100000,\n",
       " 'observations': [{'realtime_start': '2022-09-21',\n",
       "   'realtime_end': '2022-09-21',\n",
       "   'date': '2021-01-01',\n",
       "   'value': '22038.226'},\n",
       "  {'realtime_start': '2022-09-21',\n",
       "   'realtime_end': '2022-09-21',\n",
       "   'date': '2021-04-01',\n",
       "   'value': '22740.959'},\n",
       "  {'realtime_start': '2022-09-21',\n",
       "   'realtime_end': '2022-09-21',\n",
       "   'date': '2021-07-01',\n",
       "   'value': '23202.344'},\n",
       "  {'realtime_start': '2022-09-21',\n",
       "   'realtime_end': '2022-09-21',\n",
       "   'date': '2021-10-01',\n",
       "   'value': '24002.815'},\n",
       "  {'realtime_start': '2022-09-21',\n",
       "   'realtime_end': '2022-09-21',\n",
       "   'date': '2022-01-01',\n",
       "   'value': '24386.734'},\n",
       "  {'realtime_start': '2022-09-21',\n",
       "   'realtime_end': '2022-09-21',\n",
       "   'date': '2022-04-01',\n",
       "   'value': '24882.878'}]}"
      ]
     },
     "execution_count": 8,
     "metadata": {},
     "output_type": "execute_result"
    }
   ],
   "source": [
    "data"
   ]
  },
  {
   "cell_type": "markdown",
   "id": "ff9c4fd4",
   "metadata": {},
   "source": [
    "#### 3. Looking at your answer above, what is the US GDP in the first quarter of 2022? (units?)\n"
   ]
  },
  {
   "cell_type": "markdown",
   "id": "1f558fac",
   "metadata": {},
   "source": [
    "$ 24386.73 billion"
   ]
  },
  {
   "cell_type": "code",
   "execution_count": null,
   "id": "cf2b7f8e",
   "metadata": {},
   "outputs": [],
   "source": []
  }
 ],
 "metadata": {
  "kernelspec": {
   "display_name": "Python 3 (ipykernel)",
   "language": "python",
   "name": "python3"
  },
  "language_info": {
   "codemirror_mode": {
    "name": "ipython",
    "version": 3
   },
   "file_extension": ".py",
   "mimetype": "text/x-python",
   "name": "python",
   "nbconvert_exporter": "python",
   "pygments_lexer": "ipython3",
   "version": "3.9.12"
  }
 },
 "nbformat": 4,
 "nbformat_minor": 5
}
