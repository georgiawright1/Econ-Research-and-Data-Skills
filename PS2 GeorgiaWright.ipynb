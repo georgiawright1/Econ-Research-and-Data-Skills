{
 "cells": [
  {
   "cell_type": "markdown",
   "id": "e67fabd6",
   "metadata": {},
   "source": [
    "# 1. Github pull request"
   ]
  },
  {
   "cell_type": "markdown",
   "id": "3fee85f1",
   "metadata": {},
   "source": [
    "#### 1. Edit famous.json file"
   ]
  },
  {
   "cell_type": "code",
   "execution_count": 17,
   "id": "abc9d153",
   "metadata": {},
   "outputs": [],
   "source": [
    "d= { \n",
    "    \"serena\" : {\n",
    "        \"full name\" : \" Serena Williams\",\n",
    "        \"wikipedia\" : \"https://en.wikipedia.org/wiki/Serena_Williams\",\n",
    "        \"born\" : 1981,\n",
    "        \"place of birth\" : \"Saginaw, Michigan\",\n",
    "        \"height_inches\" : 69,\n",
    "        \"athlete\" : True,\n",
    "        \"sport\" : \"tennis\",\n",
    "        \"author\" : True\n",
    "    }\n",
    "}"
   ]
  },
  {
   "cell_type": "markdown",
   "id": "49b85548",
   "metadata": {},
   "source": [
    "#### 2. Create pull request"
   ]
  },
  {
   "cell_type": "markdown",
   "id": "3c3a2d22",
   "metadata": {},
   "source": [
    "# 2. Current GDP"
   ]
  },
  {
   "cell_type": "markdown",
   "id": "27d9b2f5",
   "metadata": {},
   "source": [
    "### 1. requests the JSON file about the GDP from FRED (using your key) and stores it in a dictionary variable.\n"
   ]
  },
  {
   "cell_type": "code",
   "execution_count": 2,
   "id": "d1dba44c",
   "metadata": {},
   "outputs": [
    {
     "name": "stdout",
     "output_type": "stream",
     "text": [
      "API keys loaded\n"
     ]
    }
   ],
   "source": [
    "%run APIkeys.py"
   ]
  },
  {
   "cell_type": "code",
   "execution_count": 3,
   "id": "74eb56a3",
   "metadata": {},
   "outputs": [],
   "source": [
    "import os\n",
    "import requests\n",
    "import json"
   ]
  },
  {
   "cell_type": "code",
   "execution_count": 4,
   "id": "1ca52e66",
   "metadata": {},
   "outputs": [
    {
     "name": "stdout",
     "output_type": "stream",
     "text": [
      "https://api.stlouisfed.org/fred/series/observations?series_id=GDP&api_key=71d28cbb276869ddcf3fa5c6fadf0a3b&observation_start=2021-01-01&file_type=json\n"
     ]
    }
   ],
   "source": [
    "baseURL = 'https://api.stlouisfed.org/'\n",
    "endPoint = 'fred/series/observations'\n",
    "parameter = 'series_id=GDP'\n",
    "parameter2 = 'observation_start=2021-01-01&file_type=json'\n",
    "\n",
    "key = os.environ['FRED_API_key']\n",
    "\n",
    "url = baseURL + endPoint + '?' + parameter + '&' + 'api_key=' + key + '&' + parameter2\n",
    "\n",
    "print(url)"
   ]
  },
  {
   "cell_type": "code",
   "execution_count": 5,
   "id": "e92efcd1",
   "metadata": {},
   "outputs": [],
   "source": [
    "fred = requests.get(url)"
   ]
  },
  {
   "cell_type": "code",
   "execution_count": 6,
   "id": "cd5879b2",
   "metadata": {},
   "outputs": [
    {
     "name": "stdout",
     "output_type": "stream",
     "text": [
      "<Response [200]>\n"
     ]
    }
   ],
   "source": [
    "print(fred)"
   ]
  },
  {
   "cell_type": "code",
   "execution_count": 7,
   "id": "77b377b5",
   "metadata": {},
   "outputs": [],
   "source": [
    "gdp = fred.json()"
   ]
  },
  {
   "cell_type": "code",
   "execution_count": 8,
   "id": "3211f069",
   "metadata": {},
   "outputs": [
    {
     "data": {
      "text/plain": [
       "{'realtime_start': '2022-10-06',\n",
       " 'realtime_end': '2022-10-06',\n",
       " 'observation_start': '2021-01-01',\n",
       " 'observation_end': '9999-12-31',\n",
       " 'units': 'lin',\n",
       " 'output_type': 1,\n",
       " 'file_type': 'json',\n",
       " 'order_by': 'observation_date',\n",
       " 'sort_order': 'asc',\n",
       " 'count': 6,\n",
       " 'offset': 0,\n",
       " 'limit': 100000,\n",
       " 'observations': [{'realtime_start': '2022-10-06',\n",
       "   'realtime_end': '2022-10-06',\n",
       "   'date': '2021-01-01',\n",
       "   'value': '22313.85'},\n",
       "  {'realtime_start': '2022-10-06',\n",
       "   'realtime_end': '2022-10-06',\n",
       "   'date': '2021-04-01',\n",
       "   'value': '23046.934'},\n",
       "  {'realtime_start': '2022-10-06',\n",
       "   'realtime_end': '2022-10-06',\n",
       "   'date': '2021-07-01',\n",
       "   'value': '23550.42'},\n",
       "  {'realtime_start': '2022-10-06',\n",
       "   'realtime_end': '2022-10-06',\n",
       "   'date': '2021-10-01',\n",
       "   'value': '24349.121'},\n",
       "  {'realtime_start': '2022-10-06',\n",
       "   'realtime_end': '2022-10-06',\n",
       "   'date': '2022-01-01',\n",
       "   'value': '24740.48'},\n",
       "  {'realtime_start': '2022-10-06',\n",
       "   'realtime_end': '2022-10-06',\n",
       "   'date': '2022-04-01',\n",
       "   'value': '25248.476'}]}"
      ]
     },
     "execution_count": 8,
     "metadata": {},
     "output_type": "execute_result"
    }
   ],
   "source": [
    "gdp"
   ]
  },
  {
   "cell_type": "code",
   "execution_count": 9,
   "id": "6d4aed81",
   "metadata": {},
   "outputs": [
    {
     "data": {
      "text/plain": [
       "dict"
      ]
     },
     "execution_count": 9,
     "metadata": {},
     "output_type": "execute_result"
    }
   ],
   "source": [
    "type(gdp)"
   ]
  },
  {
   "cell_type": "markdown",
   "id": "887099b8",
   "metadata": {},
   "source": [
    "### 2. read the key related to the last quarter published and print out the GDP in that quarter."
   ]
  },
  {
   "cell_type": "code",
   "execution_count": 10,
   "id": "e8c71dad",
   "metadata": {},
   "outputs": [
    {
     "data": {
      "text/plain": [
       "dict_keys(['realtime_start', 'realtime_end', 'observation_start', 'observation_end', 'units', 'output_type', 'file_type', 'order_by', 'sort_order', 'count', 'offset', 'limit', 'observations'])"
      ]
     },
     "execution_count": 10,
     "metadata": {},
     "output_type": "execute_result"
    }
   ],
   "source": [
    "gdp.keys()"
   ]
  },
  {
   "cell_type": "code",
   "execution_count": 11,
   "id": "b3b484b0",
   "metadata": {},
   "outputs": [
    {
     "data": {
      "text/plain": [
       "25248.476"
      ]
     },
     "execution_count": 11,
     "metadata": {},
     "output_type": "execute_result"
    }
   ],
   "source": [
    "float(gdp['observations'][-1]['value'])"
   ]
  },
  {
   "cell_type": "code",
   "execution_count": 12,
   "id": "379fda5e",
   "metadata": {},
   "outputs": [
    {
     "data": {
      "text/plain": [
       "[{'realtime_start': '2022-10-06',\n",
       "  'realtime_end': '2022-10-06',\n",
       "  'date': '2021-01-01',\n",
       "  'value': '22313.85'},\n",
       " {'realtime_start': '2022-10-06',\n",
       "  'realtime_end': '2022-10-06',\n",
       "  'date': '2021-04-01',\n",
       "  'value': '23046.934'},\n",
       " {'realtime_start': '2022-10-06',\n",
       "  'realtime_end': '2022-10-06',\n",
       "  'date': '2021-07-01',\n",
       "  'value': '23550.42'},\n",
       " {'realtime_start': '2022-10-06',\n",
       "  'realtime_end': '2022-10-06',\n",
       "  'date': '2021-10-01',\n",
       "  'value': '24349.121'},\n",
       " {'realtime_start': '2022-10-06',\n",
       "  'realtime_end': '2022-10-06',\n",
       "  'date': '2022-01-01',\n",
       "  'value': '24740.48'},\n",
       " {'realtime_start': '2022-10-06',\n",
       "  'realtime_end': '2022-10-06',\n",
       "  'date': '2022-04-01',\n",
       "  'value': '25248.476'}]"
      ]
     },
     "execution_count": 12,
     "metadata": {},
     "output_type": "execute_result"
    }
   ],
   "source": [
    "gdp['observations']"
   ]
  },
  {
   "cell_type": "code",
   "execution_count": null,
   "id": "95285314",
   "metadata": {},
   "outputs": [],
   "source": []
  }
 ],
 "metadata": {
  "kernelspec": {
   "display_name": "Python 3 (ipykernel)",
   "language": "python",
   "name": "python3"
  },
  "language_info": {
   "codemirror_mode": {
    "name": "ipython",
    "version": 3
   },
   "file_extension": ".py",
   "mimetype": "text/x-python",
   "name": "python",
   "nbconvert_exporter": "python",
   "pygments_lexer": "ipython3",
   "version": "3.9.12"
  }
 },
 "nbformat": 4,
 "nbformat_minor": 5
}
